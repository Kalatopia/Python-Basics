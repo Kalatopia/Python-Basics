{
  "nbformat": 4,
  "nbformat_minor": 0,
  "metadata": {
    "colab": {
      "name": "Untitled1.ipynb",
      "provenance": [],
      "authorship_tag": "ABX9TyOXxipI1DEZKB6f9PtekEb9",
      "include_colab_link": true
    },
    "kernelspec": {
      "name": "python3",
      "display_name": "Python 3"
    },
    "language_info": {
      "name": "python"
    }
  },
  "cells": [
    {
      "cell_type": "markdown",
      "metadata": {
        "id": "view-in-github",
        "colab_type": "text"
      },
      "source": [
        "<a href=\"https://colab.research.google.com/github/Kalatopia/Python-Basics/blob/main/Untitled1.ipynb\" target=\"_parent\"><img src=\"https://colab.research.google.com/assets/colab-badge.svg\" alt=\"Open In Colab\"/></a>"
      ]
    },
    {
      "cell_type": "code",
      "source": [
        "import math"
      ],
      "metadata": {
        "id": "QjTEuqf4W6gE"
      },
      "execution_count": 3,
      "outputs": []
    },
    {
      "cell_type": "code",
      "execution_count": 4,
      "metadata": {
        "id": "NilfjVC4Ubcm",
        "colab": {
          "base_uri": "https://localhost:8080/"
        },
        "outputId": "b43aae55-4d20-46da-96af-e59e71315d96"
      },
      "outputs": [
        {
          "output_type": "stream",
          "name": "stdout",
          "text": [
            "17.320508075688775\n"
          ]
        }
      ],
      "source": [
        "x1 = 10\n",
        "x2 = 10\n",
        "x3 = 10\n",
        "\n",
        "x = math.sqrt(pow(x1, 2)+pow(x2, 2) + pow(x3, 2))\n",
        "print(f\"{x}\")"
      ]
    }
  ]
}