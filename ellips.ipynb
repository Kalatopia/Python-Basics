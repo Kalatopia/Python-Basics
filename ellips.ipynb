{
  "nbformat": 4,
  "nbformat_minor": 0,
  "metadata": {
    "colab": {
      "name": "ellips.ipynb",
      "provenance": [],
      "authorship_tag": "ABX9TyOzW94MjMLQ+WXspkDckmQY",
      "include_colab_link": true
    },
    "kernelspec": {
      "name": "python3",
      "display_name": "Python 3"
    },
    "language_info": {
      "name": "python"
    }
  },
  "cells": [
    {
      "cell_type": "markdown",
      "metadata": {
        "id": "view-in-github",
        "colab_type": "text"
      },
      "source": [
        "<a href=\"https://colab.research.google.com/github/Kalatopia/Python-Basics/blob/main/ellips.ipynb\" target=\"_parent\"><img src=\"https://colab.research.google.com/assets/colab-badge.svg\" alt=\"Open In Colab\"/></a>"
      ]
    },
    {
      "cell_type": "code",
      "execution_count": 50,
      "metadata": {
        "colab": {
          "base_uri": "https://localhost:8080/",
          "height": 297
        },
        "id": "PCfV0qCJ70by",
        "outputId": "c9b1ec99-f38a-4d94-9178-7cb37ff98ed3"
      },
      "outputs": [
        {
          "output_type": "execute_result",
          "data": {
            "text/plain": [
              "Text(0, 0.5, 'y')"
            ]
          },
          "metadata": {},
          "execution_count": 50
        },
        {
          "output_type": "display_data",
          "data": {
            "text/plain": [
              "<Figure size 432x288 with 1 Axes>"
            ],
            "image/png": "[encoded data removed]"
          },
          "metadata": {
            "needs_background": "light"
          }
        }
      ],
      "source": [
        "import matplotlib.pyplot as plt\n",
        "import numpy as np\n",
        "import math\n",
        "\n",
        "a = 5\n",
        "b = 4\n",
        "x = []\n",
        "x1 = []\n",
        "y = []\n",
        "y1 = []\n",
        "\n",
        "for i in range(501):\n",
        "    k = i/100\n",
        "    x.append(k)\n",
        "    x1.append(-k)\n",
        "    y.append(math.sqrt((1 - (pow(k, 2)/pow(a, 2)))*pow(b, 2)))\n",
        "    y1.append(-math.sqrt((1 - (pow(k, 2)/pow(a, 2)))*pow(b, 2)))\n",
        "plt.plot(x, y)\n",
        "plt.plot(x, y1)\n",
        "plt.plot(x1, y)\n",
        "plt.plot(x1, y1)\n",
        "plt.axis('equal')\n",
        "plt.xlabel(\"x\")\n",
        "plt.ylabel(\"y\")"
      ]
    }
  ]
}